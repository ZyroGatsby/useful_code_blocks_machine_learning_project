{
 "cells": [
  {
   "cell_type": "markdown",
   "id": "b6dd4d6d",
   "metadata": {},
   "source": [
    "## Special Customized Functions and Codes\n",
    "These project shows customized python functions & code blocks useful when going through the pipeline of a Machine Learning Project.<br>\n",
    "Feel Free to use and even customize them.\n",
    "\n",
    "These functions cut throught sections such as:\n",
    "\n",
    "    - Data Preparation\n",
    "    - Data Exploration\n",
    "    - Features Engineering\n",
    "    - Looping through different Models for training\n",
    "    - Looping through different Models for Hyperparameter tuning\n",
    "    "
   ]
  },
  {
   "cell_type": "code",
   "execution_count": null,
   "id": "78936bf8",
   "metadata": {},
   "outputs": [],
   "source": [
    "\"\"\"\n",
    "loop through the columns and check percentage of missing values\n",
    "\"\"\"\n",
    "\n",
    "for col in df.columns:\n",
    "    pct_missing = df[col].isnull().mean()\n",
    "    print(f'{col} - {pct_missing :.1%}')"
   ]
  },
  {
   "cell_type": "code",
   "execution_count": null,
   "id": "225f2448",
   "metadata": {},
   "outputs": [],
   "source": [
    "\"\"\"\n",
    "Build a matrix of missing values\n",
    "\"\"\"\n",
    "import missingno\n",
    "\n",
    "missingno.matrix(df, fontsize = 16)\n",
    "plt.show()"
   ]
  },
  {
   "cell_type": "code",
   "execution_count": null,
   "id": "e5cd3436",
   "metadata": {},
   "outputs": [],
   "source": [
    "'''\n",
    "Value Counts\n",
    "Select just the rows desired from the 'describe' method and add in the 'median\n",
    "''''\n",
    "\n",
    "stats_df = data.describe()\n",
    "stats_df = data.describe()\n",
    "stats_df.loc['range'] = stats_df.loc['max'] - stats_df.loc['min']\n",
    "\n",
    "out_fields = ['mean','25%','50%','75%', 'range']\n",
    "stats_df = stats_df.loc[out_fields]\n",
    "stats_df.rename({'50%': 'median'}, inplace=True)\n",
    "stats_df"
   ]
  },
  {
   "cell_type": "code",
   "execution_count": null,
   "id": "9aaf12b3",
   "metadata": {},
   "outputs": [],
   "source": [
    "\"\"\"\n",
    "Check for duplicate data\n",
    "cat_col = column containing categorical varaiables\n",
    "\"\"\"\n",
    "\n",
    "for col in cat_col:\n",
    "    if df[col].duplicated().any() == True:\n",
    "        print (f'Column {col} contains duplicates.')\n",
    "    else:\n",
    "        print (f'Column {col} does not contain duplicates.')"
   ]
  }
 ],
 "metadata": {
  "kernelspec": {
   "display_name": "Python 3",
   "language": "python",
   "name": "python3"
  },
  "language_info": {
   "codemirror_mode": {
    "name": "ipython",
    "version": 3
   },
   "file_extension": ".py",
   "mimetype": "text/x-python",
   "name": "python",
   "nbconvert_exporter": "python",
   "pygments_lexer": "ipython3",
   "version": "3.8.11"
  }
 },
 "nbformat": 4,
 "nbformat_minor": 5
}
